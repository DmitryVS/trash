{
  "nbformat": 4,
  "nbformat_minor": 0,
  "metadata": {
    "colab": {
      "name": "Untitled3.ipynb",
      "version": "0.3.2",
      "provenance": [],
      "include_colab_link": true
    },
    "kernelspec": {
      "name": "python3",
      "display_name": "Python 3"
    }
  },
  "cells": [
    {
      "cell_type": "markdown",
      "metadata": {
        "id": "view-in-github",
        "colab_type": "text"
      },
      "source": [
        "<a href=\"https://colab.research.google.com/github/DmitryVS/trash/blob/master/test.ipynb\" target=\"_parent\"><img src=\"https://colab.research.google.com/assets/colab-badge.svg\" alt=\"Open In Colab\"/></a>"
      ]
    },
    {
      "cell_type": "code",
      "metadata": {
        "id": "nzKqfCLMSQ47",
        "colab_type": "code",
        "colab": {
          "base_uri": "https://localhost:8080/",
          "height": 54
        },
        "outputId": "c983a79b-8af9-4430-8298-bf8f96a795ae"
      },
      "source": [
        "import pandas as pd\n",
        "import numpy as np\n",
        "from google.colab import drive\n",
        "drive.mount('/content/drive')\n",
        "\n",
        "%matplotlib inline"
      ],
      "execution_count": 58,
      "outputs": [
        {
          "output_type": "stream",
          "text": [
            "Drive already mounted at /content/drive; to attempt to forcibly remount, call drive.mount(\"/content/drive\", force_remount=True).\n"
          ],
          "name": "stdout"
        }
      ]
    },
    {
      "cell_type": "code",
      "metadata": {
        "id": "Cds9vMG2eNvz",
        "colab_type": "code",
        "colab": {}
      },
      "source": [
        "#1. Считать данные из csv в переменную;\n",
        "\n",
        "df = pd.read_csv('/content/drive/My Drive/Colab Notebooks/Churn.csv')\n"
      ],
      "execution_count": 0,
      "outputs": []
    },
    {
      "cell_type": "code",
      "metadata": {
        "id": "IhHnsgIgeXXa",
        "colab_type": "code",
        "colab": {
          "base_uri": "https://localhost:8080/",
          "height": 275
        },
        "outputId": "7024e9f2-fee9-48eb-e869-1d4ee60da3d8"
      },
      "source": [
        "#2. Получить первые 5 объектов;\n",
        "print(f'Всего данных: {df.shape}')\n",
        "df.head()"
      ],
      "execution_count": 59,
      "outputs": [
        {
          "output_type": "stream",
          "text": [
            "Всего данных: (3333, 20)\n"
          ],
          "name": "stdout"
        },
        {
          "output_type": "execute_result",
          "data": {
            "text/html": [
              "<div>\n",
              "<style scoped>\n",
              "    .dataframe tbody tr th:only-of-type {\n",
              "        vertical-align: middle;\n",
              "    }\n",
              "\n",
              "    .dataframe tbody tr th {\n",
              "        vertical-align: top;\n",
              "    }\n",
              "\n",
              "    .dataframe thead th {\n",
              "        text-align: right;\n",
              "    }\n",
              "</style>\n",
              "<table border=\"1\" class=\"dataframe\">\n",
              "  <thead>\n",
              "    <tr style=\"text-align: right;\">\n",
              "      <th></th>\n",
              "      <th>State</th>\n",
              "      <th>Account length</th>\n",
              "      <th>Area code</th>\n",
              "      <th>International plan</th>\n",
              "      <th>Voice mail plan</th>\n",
              "      <th>Number vmail messages</th>\n",
              "      <th>Total day minutes</th>\n",
              "      <th>Total day calls</th>\n",
              "      <th>Total day charge</th>\n",
              "      <th>Total eve minutes</th>\n",
              "      <th>Total eve calls</th>\n",
              "      <th>Total eve charge</th>\n",
              "      <th>Total night minutes</th>\n",
              "      <th>Total night calls</th>\n",
              "      <th>Total night charge</th>\n",
              "      <th>Total intl minutes</th>\n",
              "      <th>Total intl calls</th>\n",
              "      <th>Total intl charge</th>\n",
              "      <th>Customer service calls</th>\n",
              "      <th>Churn</th>\n",
              "    </tr>\n",
              "  </thead>\n",
              "  <tbody>\n",
              "    <tr>\n",
              "      <th>0</th>\n",
              "      <td>KS</td>\n",
              "      <td>128</td>\n",
              "      <td>415</td>\n",
              "      <td>No</td>\n",
              "      <td>Yes</td>\n",
              "      <td>25</td>\n",
              "      <td>265.1</td>\n",
              "      <td>110</td>\n",
              "      <td>45.07</td>\n",
              "      <td>197.4</td>\n",
              "      <td>99</td>\n",
              "      <td>16.78</td>\n",
              "      <td>244.7</td>\n",
              "      <td>91</td>\n",
              "      <td>11.01</td>\n",
              "      <td>10.0</td>\n",
              "      <td>3</td>\n",
              "      <td>2.70</td>\n",
              "      <td>1</td>\n",
              "      <td>False</td>\n",
              "    </tr>\n",
              "    <tr>\n",
              "      <th>1</th>\n",
              "      <td>OH</td>\n",
              "      <td>107</td>\n",
              "      <td>415</td>\n",
              "      <td>No</td>\n",
              "      <td>Yes</td>\n",
              "      <td>26</td>\n",
              "      <td>161.6</td>\n",
              "      <td>123</td>\n",
              "      <td>27.47</td>\n",
              "      <td>195.5</td>\n",
              "      <td>103</td>\n",
              "      <td>16.62</td>\n",
              "      <td>254.4</td>\n",
              "      <td>103</td>\n",
              "      <td>11.45</td>\n",
              "      <td>13.7</td>\n",
              "      <td>3</td>\n",
              "      <td>3.70</td>\n",
              "      <td>1</td>\n",
              "      <td>False</td>\n",
              "    </tr>\n",
              "    <tr>\n",
              "      <th>2</th>\n",
              "      <td>NJ</td>\n",
              "      <td>137</td>\n",
              "      <td>415</td>\n",
              "      <td>No</td>\n",
              "      <td>No</td>\n",
              "      <td>0</td>\n",
              "      <td>243.4</td>\n",
              "      <td>114</td>\n",
              "      <td>41.38</td>\n",
              "      <td>121.2</td>\n",
              "      <td>110</td>\n",
              "      <td>10.30</td>\n",
              "      <td>162.6</td>\n",
              "      <td>104</td>\n",
              "      <td>7.32</td>\n",
              "      <td>12.2</td>\n",
              "      <td>5</td>\n",
              "      <td>3.29</td>\n",
              "      <td>0</td>\n",
              "      <td>False</td>\n",
              "    </tr>\n",
              "    <tr>\n",
              "      <th>3</th>\n",
              "      <td>OH</td>\n",
              "      <td>84</td>\n",
              "      <td>408</td>\n",
              "      <td>Yes</td>\n",
              "      <td>No</td>\n",
              "      <td>0</td>\n",
              "      <td>299.4</td>\n",
              "      <td>71</td>\n",
              "      <td>50.90</td>\n",
              "      <td>61.9</td>\n",
              "      <td>88</td>\n",
              "      <td>5.26</td>\n",
              "      <td>196.9</td>\n",
              "      <td>89</td>\n",
              "      <td>8.86</td>\n",
              "      <td>6.6</td>\n",
              "      <td>7</td>\n",
              "      <td>1.78</td>\n",
              "      <td>2</td>\n",
              "      <td>False</td>\n",
              "    </tr>\n",
              "    <tr>\n",
              "      <th>4</th>\n",
              "      <td>OK</td>\n",
              "      <td>75</td>\n",
              "      <td>415</td>\n",
              "      <td>Yes</td>\n",
              "      <td>No</td>\n",
              "      <td>0</td>\n",
              "      <td>166.7</td>\n",
              "      <td>113</td>\n",
              "      <td>28.34</td>\n",
              "      <td>148.3</td>\n",
              "      <td>122</td>\n",
              "      <td>12.61</td>\n",
              "      <td>186.9</td>\n",
              "      <td>121</td>\n",
              "      <td>8.41</td>\n",
              "      <td>10.1</td>\n",
              "      <td>3</td>\n",
              "      <td>2.73</td>\n",
              "      <td>3</td>\n",
              "      <td>False</td>\n",
              "    </tr>\n",
              "  </tbody>\n",
              "</table>\n",
              "</div>"
            ],
            "text/plain": [
              "  State  Account length  Area code International plan Voice mail plan  \\\n",
              "0    KS             128        415                 No             Yes   \n",
              "1    OH             107        415                 No             Yes   \n",
              "2    NJ             137        415                 No              No   \n",
              "3    OH              84        408                Yes              No   \n",
              "4    OK              75        415                Yes              No   \n",
              "\n",
              "   Number vmail messages  Total day minutes  Total day calls  \\\n",
              "0                     25              265.1              110   \n",
              "1                     26              161.6              123   \n",
              "2                      0              243.4              114   \n",
              "3                      0              299.4               71   \n",
              "4                      0              166.7              113   \n",
              "\n",
              "   Total day charge  Total eve minutes  Total eve calls  Total eve charge  \\\n",
              "0             45.07              197.4               99             16.78   \n",
              "1             27.47              195.5              103             16.62   \n",
              "2             41.38              121.2              110             10.30   \n",
              "3             50.90               61.9               88              5.26   \n",
              "4             28.34              148.3              122             12.61   \n",
              "\n",
              "   Total night minutes  Total night calls  Total night charge  \\\n",
              "0                244.7                 91               11.01   \n",
              "1                254.4                103               11.45   \n",
              "2                162.6                104                7.32   \n",
              "3                196.9                 89                8.86   \n",
              "4                186.9                121                8.41   \n",
              "\n",
              "   Total intl minutes  Total intl calls  Total intl charge  \\\n",
              "0                10.0                 3               2.70   \n",
              "1                13.7                 3               3.70   \n",
              "2                12.2                 5               3.29   \n",
              "3                 6.6                 7               1.78   \n",
              "4                10.1                 3               2.73   \n",
              "\n",
              "   Customer service calls  Churn  \n",
              "0                       1  False  \n",
              "1                       1  False  \n",
              "2                       0  False  \n",
              "3                       2  False  \n",
              "4                       3  False  "
            ]
          },
          "metadata": {
            "tags": []
          },
          "execution_count": 59
        }
      ]
    },
    {
      "cell_type": "code",
      "metadata": {
        "id": "vbaU6guXeZEC",
        "colab_type": "code",
        "colab": {
          "base_uri": "https://localhost:8080/",
          "height": 442
        },
        "outputId": "7b2ad801-ee08-43ef-8de8-35942b398f48"
      },
      "source": [
        "#3. Получить все признаки и составить к ним описание;\n",
        "df.info()"
      ],
      "execution_count": 60,
      "outputs": [
        {
          "output_type": "stream",
          "text": [
            "<class 'pandas.core.frame.DataFrame'>\n",
            "RangeIndex: 3333 entries, 0 to 3332\n",
            "Data columns (total 20 columns):\n",
            "State                     3333 non-null object\n",
            "Account length            3333 non-null int64\n",
            "Area code                 3333 non-null int64\n",
            "International plan        3333 non-null object\n",
            "Voice mail plan           3333 non-null object\n",
            "Number vmail messages     3333 non-null int64\n",
            "Total day minutes         3333 non-null float64\n",
            "Total day calls           3333 non-null int64\n",
            "Total day charge          3333 non-null float64\n",
            "Total eve minutes         3333 non-null float64\n",
            "Total eve calls           3333 non-null int64\n",
            "Total eve charge          3333 non-null float64\n",
            "Total night minutes       3333 non-null float64\n",
            "Total night calls         3333 non-null int64\n",
            "Total night charge        3333 non-null float64\n",
            "Total intl minutes        3333 non-null float64\n",
            "Total intl calls          3333 non-null int64\n",
            "Total intl charge         3333 non-null float64\n",
            "Customer service calls    3333 non-null int64\n",
            "Churn                     3333 non-null bool\n",
            "dtypes: bool(1), float64(8), int64(8), object(3)\n",
            "memory usage: 498.1+ KB\n"
          ],
          "name": "stdout"
        }
      ]
    },
    {
      "cell_type": "code",
      "metadata": {
        "id": "iQ42hfIqebZ6",
        "colab_type": "code",
        "colab": {
          "base_uri": "https://localhost:8080/",
          "height": 34
        },
        "outputId": "5660b3cd-43fa-41da-d85e-976924c00177"
      },
      "source": [
        "#4. Получить размерность данных;\n",
        "df.shape"
      ],
      "execution_count": 56,
      "outputs": [
        {
          "output_type": "execute_result",
          "data": {
            "text/plain": [
              "(3333, 20)"
            ]
          },
          "metadata": {
            "tags": []
          },
          "execution_count": 56
        }
      ]
    },
    {
      "cell_type": "code",
      "metadata": {
        "id": "XA4sBtnHedIC",
        "colab_type": "code",
        "colab": {
          "base_uri": "https://localhost:8080/",
          "height": 153
        },
        "outputId": "be9789c6-be52-4b1a-d272-5074fc383788"
      },
      "source": [
        "#5. Получить название столбцов;\n",
        "df.columns"
      ],
      "execution_count": 17,
      "outputs": [
        {
          "output_type": "execute_result",
          "data": {
            "text/plain": [
              "Index(['State', 'Account length', 'Area code', 'International plan',\n",
              "       'Voice mail plan', 'Number vmail messages', 'Total day minutes',\n",
              "       'Total day calls', 'Total day charge', 'Total eve minutes',\n",
              "       'Total eve calls', 'Total eve charge', 'Total night minutes',\n",
              "       'Total night calls', 'Total night charge', 'Total intl minutes',\n",
              "       'Total intl calls', 'Total intl charge', 'Customer service calls',\n",
              "       'Churn'],\n",
              "      dtype='object')"
            ]
          },
          "metadata": {
            "tags": []
          },
          "execution_count": 17
        }
      ]
    },
    {
      "cell_type": "code",
      "metadata": {
        "id": "hPBUrsuVee9S",
        "colab_type": "code",
        "colab": {}
      },
      "source": [
        "#6. Изменить тип колонки Churn;\n",
        "df.astype({'Churn':int})"
      ],
      "execution_count": 0,
      "outputs": []
    },
    {
      "cell_type": "code",
      "metadata": {
        "id": "C0KhEAuMefWC",
        "colab_type": "code",
        "colab": {
          "base_uri": "https://localhost:8080/",
          "height": 258
        },
        "outputId": "3a7f7bb7-8ea7-4ef2-b95a-52936e8b21ca"
      },
      "source": [
        "#7. Отсортировать набор данных по времени разговоров;\n",
        "\n",
        "df.sort_values(by='Total day minutes').head()"
      ],
      "execution_count": 18,
      "outputs": [
        {
          "output_type": "execute_result",
          "data": {
            "text/html": [
              "<div>\n",
              "<style scoped>\n",
              "    .dataframe tbody tr th:only-of-type {\n",
              "        vertical-align: middle;\n",
              "    }\n",
              "\n",
              "    .dataframe tbody tr th {\n",
              "        vertical-align: top;\n",
              "    }\n",
              "\n",
              "    .dataframe thead th {\n",
              "        text-align: right;\n",
              "    }\n",
              "</style>\n",
              "<table border=\"1\" class=\"dataframe\">\n",
              "  <thead>\n",
              "    <tr style=\"text-align: right;\">\n",
              "      <th></th>\n",
              "      <th>State</th>\n",
              "      <th>Account length</th>\n",
              "      <th>Area code</th>\n",
              "      <th>International plan</th>\n",
              "      <th>Voice mail plan</th>\n",
              "      <th>Number vmail messages</th>\n",
              "      <th>Total day minutes</th>\n",
              "      <th>Total day calls</th>\n",
              "      <th>Total day charge</th>\n",
              "      <th>Total eve minutes</th>\n",
              "      <th>Total eve calls</th>\n",
              "      <th>Total eve charge</th>\n",
              "      <th>Total night minutes</th>\n",
              "      <th>Total night calls</th>\n",
              "      <th>Total night charge</th>\n",
              "      <th>Total intl minutes</th>\n",
              "      <th>Total intl calls</th>\n",
              "      <th>Total intl charge</th>\n",
              "      <th>Customer service calls</th>\n",
              "      <th>Churn</th>\n",
              "    </tr>\n",
              "  </thead>\n",
              "  <tbody>\n",
              "    <tr>\n",
              "      <th>1345</th>\n",
              "      <td>SD</td>\n",
              "      <td>98</td>\n",
              "      <td>415</td>\n",
              "      <td>No</td>\n",
              "      <td>No</td>\n",
              "      <td>0</td>\n",
              "      <td>0.0</td>\n",
              "      <td>0</td>\n",
              "      <td>0.00</td>\n",
              "      <td>159.6</td>\n",
              "      <td>130</td>\n",
              "      <td>13.57</td>\n",
              "      <td>167.1</td>\n",
              "      <td>88</td>\n",
              "      <td>7.52</td>\n",
              "      <td>6.8</td>\n",
              "      <td>1</td>\n",
              "      <td>1.84</td>\n",
              "      <td>4</td>\n",
              "      <td>True</td>\n",
              "    </tr>\n",
              "    <tr>\n",
              "      <th>1397</th>\n",
              "      <td>VT</td>\n",
              "      <td>101</td>\n",
              "      <td>510</td>\n",
              "      <td>No</td>\n",
              "      <td>No</td>\n",
              "      <td>0</td>\n",
              "      <td>0.0</td>\n",
              "      <td>0</td>\n",
              "      <td>0.00</td>\n",
              "      <td>192.1</td>\n",
              "      <td>119</td>\n",
              "      <td>16.33</td>\n",
              "      <td>168.8</td>\n",
              "      <td>95</td>\n",
              "      <td>7.60</td>\n",
              "      <td>7.2</td>\n",
              "      <td>4</td>\n",
              "      <td>1.94</td>\n",
              "      <td>1</td>\n",
              "      <td>False</td>\n",
              "    </tr>\n",
              "    <tr>\n",
              "      <th>2736</th>\n",
              "      <td>OK</td>\n",
              "      <td>127</td>\n",
              "      <td>510</td>\n",
              "      <td>No</td>\n",
              "      <td>Yes</td>\n",
              "      <td>27</td>\n",
              "      <td>2.6</td>\n",
              "      <td>113</td>\n",
              "      <td>0.44</td>\n",
              "      <td>254.0</td>\n",
              "      <td>102</td>\n",
              "      <td>21.59</td>\n",
              "      <td>242.7</td>\n",
              "      <td>156</td>\n",
              "      <td>10.92</td>\n",
              "      <td>9.2</td>\n",
              "      <td>5</td>\n",
              "      <td>2.48</td>\n",
              "      <td>3</td>\n",
              "      <td>False</td>\n",
              "    </tr>\n",
              "    <tr>\n",
              "      <th>2753</th>\n",
              "      <td>OH</td>\n",
              "      <td>134</td>\n",
              "      <td>415</td>\n",
              "      <td>No</td>\n",
              "      <td>No</td>\n",
              "      <td>0</td>\n",
              "      <td>7.8</td>\n",
              "      <td>86</td>\n",
              "      <td>1.33</td>\n",
              "      <td>171.4</td>\n",
              "      <td>100</td>\n",
              "      <td>14.57</td>\n",
              "      <td>186.5</td>\n",
              "      <td>80</td>\n",
              "      <td>8.39</td>\n",
              "      <td>12.9</td>\n",
              "      <td>2</td>\n",
              "      <td>3.48</td>\n",
              "      <td>2</td>\n",
              "      <td>False</td>\n",
              "    </tr>\n",
              "    <tr>\n",
              "      <th>1986</th>\n",
              "      <td>WI</td>\n",
              "      <td>70</td>\n",
              "      <td>415</td>\n",
              "      <td>No</td>\n",
              "      <td>No</td>\n",
              "      <td>0</td>\n",
              "      <td>7.9</td>\n",
              "      <td>100</td>\n",
              "      <td>1.34</td>\n",
              "      <td>136.4</td>\n",
              "      <td>83</td>\n",
              "      <td>11.59</td>\n",
              "      <td>156.6</td>\n",
              "      <td>89</td>\n",
              "      <td>7.05</td>\n",
              "      <td>12.1</td>\n",
              "      <td>1</td>\n",
              "      <td>3.27</td>\n",
              "      <td>0</td>\n",
              "      <td>False</td>\n",
              "    </tr>\n",
              "  </tbody>\n",
              "</table>\n",
              "</div>"
            ],
            "text/plain": [
              "     State  Account length  ...  Customer service calls  Churn\n",
              "1345    SD              98  ...                       4   True\n",
              "1397    VT             101  ...                       1  False\n",
              "2736    OK             127  ...                       3  False\n",
              "2753    OH             134  ...                       2  False\n",
              "1986    WI              70  ...                       0  False\n",
              "\n",
              "[5 rows x 20 columns]"
            ]
          },
          "metadata": {
            "tags": []
          },
          "execution_count": 18
        }
      ]
    },
    {
      "cell_type": "code",
      "metadata": {
        "id": "kSVgFCMhefcK",
        "colab_type": "code",
        "colab": {
          "base_uri": "https://localhost:8080/",
          "height": 323
        },
        "outputId": "9ae10e4a-38e1-4e90-eede-45ce75753d6f"
      },
      "source": [
        "#8. Получить средние значения числовых признаков среди нелояльных пользователей;\n",
        "df1=df.loc[df['Churn']==0]\n",
        "df1.mean()"
      ],
      "execution_count": 54,
      "outputs": [
        {
          "output_type": "execute_result",
          "data": {
            "text/plain": [
              "Account length            100.793684\n",
              "Area code                 437.074737\n",
              "Number vmail messages       8.604561\n",
              "Total day minutes         175.175754\n",
              "Total day calls           100.283158\n",
              "Total day charge           29.780421\n",
              "Total eve minutes         199.043298\n",
              "Total eve calls           100.038596\n",
              "Total eve charge           16.918909\n",
              "Total night minutes       200.133193\n",
              "Total night calls         100.058246\n",
              "Total night charge          9.006074\n",
              "Total intl minutes         10.158877\n",
              "Total intl calls            4.532982\n",
              "Total intl charge           2.743404\n",
              "Customer service calls      1.449825\n",
              "Churn                       0.000000\n",
              "dtype: float64"
            ]
          },
          "metadata": {
            "tags": []
          },
          "execution_count": 54
        }
      ]
    },
    {
      "cell_type": "code",
      "metadata": {
        "id": "7GuGxF2Lefhq",
        "colab_type": "code",
        "colab": {
          "base_uri": "https://localhost:8080/",
          "height": 34
        },
        "outputId": "563e8992-863c-477c-dfab-356568a8896f"
      },
      "source": [
        "#9. Получить сколько в среднем в течение дня разговаривают по телефону нелояльные пользователи;\n",
        "\n",
        "df1=df.loc[df['Churn']==0]\n",
        "df.head()\n",
        "df1['Total day calls'].mean()"
      ],
      "execution_count": 41,
      "outputs": [
        {
          "output_type": "execute_result",
          "data": {
            "text/plain": [
              "100.28315789473685"
            ]
          },
          "metadata": {
            "tags": []
          },
          "execution_count": 41
        }
      ]
    },
    {
      "cell_type": "code",
      "metadata": {
        "id": "4Oa-GZquel8r",
        "colab_type": "code",
        "colab": {
          "base_uri": "https://localhost:8080/",
          "height": 495
        },
        "outputId": "84d5296b-e0a6-4dce-cc65-8b7ce7b88848"
      },
      "source": [
        "#10. Сгруппировать данные по признаку:«Количество минут ночью»;\n",
        "df2=df.groupby(['Total night minutes']).mean()\n",
        "print(f'Всего данных: {df2.shape}')\n",
        "df2.head(10)"
      ],
      "execution_count": 53,
      "outputs": [
        {
          "output_type": "stream",
          "text": [
            "Всего данных: (1591, 16)\n"
          ],
          "name": "stdout"
        },
        {
          "output_type": "execute_result",
          "data": {
            "text/html": [
              "<div>\n",
              "<style scoped>\n",
              "    .dataframe tbody tr th:only-of-type {\n",
              "        vertical-align: middle;\n",
              "    }\n",
              "\n",
              "    .dataframe tbody tr th {\n",
              "        vertical-align: top;\n",
              "    }\n",
              "\n",
              "    .dataframe thead th {\n",
              "        text-align: right;\n",
              "    }\n",
              "</style>\n",
              "<table border=\"1\" class=\"dataframe\">\n",
              "  <thead>\n",
              "    <tr style=\"text-align: right;\">\n",
              "      <th></th>\n",
              "      <th>Account length</th>\n",
              "      <th>Area code</th>\n",
              "      <th>Number vmail messages</th>\n",
              "      <th>Total day minutes</th>\n",
              "      <th>Total day calls</th>\n",
              "      <th>Total day charge</th>\n",
              "      <th>Total eve minutes</th>\n",
              "      <th>Total eve calls</th>\n",
              "      <th>Total eve charge</th>\n",
              "      <th>Total night calls</th>\n",
              "      <th>Total night charge</th>\n",
              "      <th>Total intl minutes</th>\n",
              "      <th>Total intl calls</th>\n",
              "      <th>Total intl charge</th>\n",
              "      <th>Customer service calls</th>\n",
              "      <th>Churn</th>\n",
              "    </tr>\n",
              "    <tr>\n",
              "      <th>Total night minutes</th>\n",
              "      <th></th>\n",
              "      <th></th>\n",
              "      <th></th>\n",
              "      <th></th>\n",
              "      <th></th>\n",
              "      <th></th>\n",
              "      <th></th>\n",
              "      <th></th>\n",
              "      <th></th>\n",
              "      <th></th>\n",
              "      <th></th>\n",
              "      <th></th>\n",
              "      <th></th>\n",
              "      <th></th>\n",
              "      <th></th>\n",
              "      <th></th>\n",
              "    </tr>\n",
              "  </thead>\n",
              "  <tbody>\n",
              "    <tr>\n",
              "      <th>23.2</th>\n",
              "      <td>76.0</td>\n",
              "      <td>415.0</td>\n",
              "      <td>22.0</td>\n",
              "      <td>160.10</td>\n",
              "      <td>107.0</td>\n",
              "      <td>27.220</td>\n",
              "      <td>168.7</td>\n",
              "      <td>136.0</td>\n",
              "      <td>14.34</td>\n",
              "      <td>102.0</td>\n",
              "      <td>1.04</td>\n",
              "      <td>9.5</td>\n",
              "      <td>4.0</td>\n",
              "      <td>2.57</td>\n",
              "      <td>3.0</td>\n",
              "      <td>0.0</td>\n",
              "    </tr>\n",
              "    <tr>\n",
              "      <th>43.7</th>\n",
              "      <td>152.0</td>\n",
              "      <td>415.0</td>\n",
              "      <td>0.0</td>\n",
              "      <td>206.30</td>\n",
              "      <td>98.0</td>\n",
              "      <td>35.070</td>\n",
              "      <td>292.8</td>\n",
              "      <td>82.0</td>\n",
              "      <td>24.89</td>\n",
              "      <td>121.0</td>\n",
              "      <td>1.97</td>\n",
              "      <td>10.6</td>\n",
              "      <td>4.0</td>\n",
              "      <td>2.86</td>\n",
              "      <td>1.0</td>\n",
              "      <td>0.0</td>\n",
              "    </tr>\n",
              "    <tr>\n",
              "      <th>45.0</th>\n",
              "      <td>42.0</td>\n",
              "      <td>408.0</td>\n",
              "      <td>0.0</td>\n",
              "      <td>146.30</td>\n",
              "      <td>84.0</td>\n",
              "      <td>24.870</td>\n",
              "      <td>255.9</td>\n",
              "      <td>113.0</td>\n",
              "      <td>21.75</td>\n",
              "      <td>117.0</td>\n",
              "      <td>2.03</td>\n",
              "      <td>8.0</td>\n",
              "      <td>12.0</td>\n",
              "      <td>2.16</td>\n",
              "      <td>1.0</td>\n",
              "      <td>0.0</td>\n",
              "    </tr>\n",
              "    <tr>\n",
              "      <th>47.4</th>\n",
              "      <td>146.0</td>\n",
              "      <td>510.0</td>\n",
              "      <td>0.0</td>\n",
              "      <td>138.40</td>\n",
              "      <td>104.0</td>\n",
              "      <td>23.530</td>\n",
              "      <td>158.9</td>\n",
              "      <td>122.0</td>\n",
              "      <td>13.51</td>\n",
              "      <td>73.0</td>\n",
              "      <td>2.13</td>\n",
              "      <td>3.9</td>\n",
              "      <td>9.0</td>\n",
              "      <td>1.05</td>\n",
              "      <td>4.0</td>\n",
              "      <td>1.0</td>\n",
              "    </tr>\n",
              "    <tr>\n",
              "      <th>50.1</th>\n",
              "      <td>143.5</td>\n",
              "      <td>411.5</td>\n",
              "      <td>12.5</td>\n",
              "      <td>179.55</td>\n",
              "      <td>97.0</td>\n",
              "      <td>30.525</td>\n",
              "      <td>152.6</td>\n",
              "      <td>100.0</td>\n",
              "      <td>12.97</td>\n",
              "      <td>73.5</td>\n",
              "      <td>2.25</td>\n",
              "      <td>13.4</td>\n",
              "      <td>3.5</td>\n",
              "      <td>3.62</td>\n",
              "      <td>1.5</td>\n",
              "      <td>0.0</td>\n",
              "    </tr>\n",
              "    <tr>\n",
              "      <th>53.3</th>\n",
              "      <td>101.0</td>\n",
              "      <td>415.0</td>\n",
              "      <td>0.0</td>\n",
              "      <td>118.60</td>\n",
              "      <td>89.0</td>\n",
              "      <td>20.160</td>\n",
              "      <td>199.6</td>\n",
              "      <td>97.0</td>\n",
              "      <td>16.97</td>\n",
              "      <td>61.0</td>\n",
              "      <td>2.40</td>\n",
              "      <td>11.5</td>\n",
              "      <td>5.0</td>\n",
              "      <td>3.11</td>\n",
              "      <td>1.0</td>\n",
              "      <td>0.0</td>\n",
              "    </tr>\n",
              "    <tr>\n",
              "      <th>54.0</th>\n",
              "      <td>123.0</td>\n",
              "      <td>408.0</td>\n",
              "      <td>0.0</td>\n",
              "      <td>154.30</td>\n",
              "      <td>107.0</td>\n",
              "      <td>26.230</td>\n",
              "      <td>183.0</td>\n",
              "      <td>111.0</td>\n",
              "      <td>15.56</td>\n",
              "      <td>134.0</td>\n",
              "      <td>2.43</td>\n",
              "      <td>10.9</td>\n",
              "      <td>8.0</td>\n",
              "      <td>2.94</td>\n",
              "      <td>0.0</td>\n",
              "      <td>0.0</td>\n",
              "    </tr>\n",
              "    <tr>\n",
              "      <th>54.5</th>\n",
              "      <td>165.0</td>\n",
              "      <td>415.0</td>\n",
              "      <td>0.0</td>\n",
              "      <td>207.70</td>\n",
              "      <td>109.0</td>\n",
              "      <td>35.310</td>\n",
              "      <td>164.8</td>\n",
              "      <td>94.0</td>\n",
              "      <td>14.01</td>\n",
              "      <td>91.0</td>\n",
              "      <td>2.45</td>\n",
              "      <td>7.9</td>\n",
              "      <td>3.0</td>\n",
              "      <td>2.13</td>\n",
              "      <td>0.0</td>\n",
              "      <td>0.0</td>\n",
              "    </tr>\n",
              "    <tr>\n",
              "      <th>56.6</th>\n",
              "      <td>176.0</td>\n",
              "      <td>415.0</td>\n",
              "      <td>0.0</td>\n",
              "      <td>169.50</td>\n",
              "      <td>151.0</td>\n",
              "      <td>28.820</td>\n",
              "      <td>112.9</td>\n",
              "      <td>84.0</td>\n",
              "      <td>9.60</td>\n",
              "      <td>99.0</td>\n",
              "      <td>2.55</td>\n",
              "      <td>8.7</td>\n",
              "      <td>4.0</td>\n",
              "      <td>2.35</td>\n",
              "      <td>0.0</td>\n",
              "      <td>0.0</td>\n",
              "    </tr>\n",
              "    <tr>\n",
              "      <th>57.5</th>\n",
              "      <td>64.0</td>\n",
              "      <td>510.0</td>\n",
              "      <td>0.0</td>\n",
              "      <td>162.60</td>\n",
              "      <td>83.0</td>\n",
              "      <td>27.640</td>\n",
              "      <td>152.3</td>\n",
              "      <td>109.0</td>\n",
              "      <td>12.95</td>\n",
              "      <td>122.0</td>\n",
              "      <td>2.59</td>\n",
              "      <td>14.2</td>\n",
              "      <td>3.0</td>\n",
              "      <td>3.83</td>\n",
              "      <td>1.0</td>\n",
              "      <td>0.0</td>\n",
              "    </tr>\n",
              "  </tbody>\n",
              "</table>\n",
              "</div>"
            ],
            "text/plain": [
              "                     Account length  Area code  Number vmail messages  \\\n",
              "Total night minutes                                                     \n",
              "23.2                           76.0      415.0                   22.0   \n",
              "43.7                          152.0      415.0                    0.0   \n",
              "45.0                           42.0      408.0                    0.0   \n",
              "47.4                          146.0      510.0                    0.0   \n",
              "50.1                          143.5      411.5                   12.5   \n",
              "53.3                          101.0      415.0                    0.0   \n",
              "54.0                          123.0      408.0                    0.0   \n",
              "54.5                          165.0      415.0                    0.0   \n",
              "56.6                          176.0      415.0                    0.0   \n",
              "57.5                           64.0      510.0                    0.0   \n",
              "\n",
              "                     Total day minutes  Total day calls  Total day charge  \\\n",
              "Total night minutes                                                         \n",
              "23.2                            160.10            107.0            27.220   \n",
              "43.7                            206.30             98.0            35.070   \n",
              "45.0                            146.30             84.0            24.870   \n",
              "47.4                            138.40            104.0            23.530   \n",
              "50.1                            179.55             97.0            30.525   \n",
              "53.3                            118.60             89.0            20.160   \n",
              "54.0                            154.30            107.0            26.230   \n",
              "54.5                            207.70            109.0            35.310   \n",
              "56.6                            169.50            151.0            28.820   \n",
              "57.5                            162.60             83.0            27.640   \n",
              "\n",
              "                     Total eve minutes  Total eve calls  Total eve charge  \\\n",
              "Total night minutes                                                         \n",
              "23.2                             168.7            136.0             14.34   \n",
              "43.7                             292.8             82.0             24.89   \n",
              "45.0                             255.9            113.0             21.75   \n",
              "47.4                             158.9            122.0             13.51   \n",
              "50.1                             152.6            100.0             12.97   \n",
              "53.3                             199.6             97.0             16.97   \n",
              "54.0                             183.0            111.0             15.56   \n",
              "54.5                             164.8             94.0             14.01   \n",
              "56.6                             112.9             84.0              9.60   \n",
              "57.5                             152.3            109.0             12.95   \n",
              "\n",
              "                     Total night calls  Total night charge  \\\n",
              "Total night minutes                                          \n",
              "23.2                             102.0                1.04   \n",
              "43.7                             121.0                1.97   \n",
              "45.0                             117.0                2.03   \n",
              "47.4                              73.0                2.13   \n",
              "50.1                              73.5                2.25   \n",
              "53.3                              61.0                2.40   \n",
              "54.0                             134.0                2.43   \n",
              "54.5                              91.0                2.45   \n",
              "56.6                              99.0                2.55   \n",
              "57.5                             122.0                2.59   \n",
              "\n",
              "                     Total intl minutes  Total intl calls  Total intl charge  \\\n",
              "Total night minutes                                                            \n",
              "23.2                                9.5               4.0               2.57   \n",
              "43.7                               10.6               4.0               2.86   \n",
              "45.0                                8.0              12.0               2.16   \n",
              "47.4                                3.9               9.0               1.05   \n",
              "50.1                               13.4               3.5               3.62   \n",
              "53.3                               11.5               5.0               3.11   \n",
              "54.0                               10.9               8.0               2.94   \n",
              "54.5                                7.9               3.0               2.13   \n",
              "56.6                                8.7               4.0               2.35   \n",
              "57.5                               14.2               3.0               3.83   \n",
              "\n",
              "                     Customer service calls  Churn  \n",
              "Total night minutes                                 \n",
              "23.2                                    3.0    0.0  \n",
              "43.7                                    1.0    0.0  \n",
              "45.0                                    1.0    0.0  \n",
              "47.4                                    4.0    1.0  \n",
              "50.1                                    1.5    0.0  \n",
              "53.3                                    1.0    0.0  \n",
              "54.0                                    0.0    0.0  \n",
              "54.5                                    0.0    0.0  \n",
              "56.6                                    0.0    0.0  \n",
              "57.5                                    1.0    0.0  "
            ]
          },
          "metadata": {
            "tags": []
          },
          "execution_count": 53
        }
      ]
    },
    {
      "cell_type": "code",
      "metadata": {
        "id": "No8_65D1emLj",
        "colab_type": "code",
        "colab": {
          "base_uri": "https://localhost:8080/",
          "height": 85
        },
        "outputId": "a1ba3206-969c-4880-868a-f3b6c9e755f0"
      },
      "source": [
        "#11. Получить наблюдения в контексте двух признаков:«Churn» и «International plan»;\n",
        "\n",
        "print(df.loc[df['International plan']=='Yes'].count()[0])\n",
        "print(df.loc[df['International plan']=='No'].count()[0])\n",
        "\n",
        "print(df.loc[df['Churn']==1].count()[0])\n",
        "print(df.loc[df['Churn']==0].count()[0])"
      ],
      "execution_count": 51,
      "outputs": [
        {
          "output_type": "stream",
          "text": [
            "323\n",
            "3010\n",
            "483\n",
            "2850\n"
          ],
          "name": "stdout"
        }
      ]
    },
    {
      "cell_type": "code",
      "metadata": {
        "id": "dp6UmhCkp-MN",
        "colab_type": "code",
        "colab": {}
      },
      "source": [
        "#1. Отобразить линейный график от двух любых признаков;\n",
        "import seaborn as sns\n"
      ],
      "execution_count": 0,
      "outputs": []
    },
    {
      "cell_type": "code",
      "metadata": {
        "id": "YHiUteK1qEMG",
        "colab_type": "code",
        "colab": {}
      },
      "source": [
        "#2. Отобразить диаграмму рассеяния от всех признаков;\n"
      ],
      "execution_count": 0,
      "outputs": []
    },
    {
      "cell_type": "code",
      "metadata": {
        "id": "775xXPT_qHX9",
        "colab_type": "code",
        "colab": {
          "base_uri": "https://localhost:8080/",
          "height": 306
        },
        "outputId": "acc1eff7-1ff2-4966-9c88-bf8e2afe27a4"
      },
      "source": [
        "#3. Отобразить тепловую карту от трех любых признаков;\n",
        "sales = df.pivot_table(index = 'Churn', \n",
        "                                      columns = 'State', \n",
        "                                      values = 'Total day minutes', \n",
        "                                     aggfunc=sum).fillna(0).applymap(int)\n",
        "sns.heatmap(sales, annot=True, fmt=\".1f\", linewidths=.5)"
      ],
      "execution_count": 69,
      "outputs": [
        {
          "output_type": "execute_result",
          "data": {
            "text/plain": [
              "<matplotlib.axes._subplots.AxesSubplot at 0x7f63f8a7df60>"
            ]
          },
          "metadata": {
            "tags": []
          },
          "execution_count": 69
        },
        {
          "output_type": "display_data",
          "data": {
            "image/png": "[encoded data removed]",
            "text/plain": [
              "<Figure size 432x288 with 2 Axes>"
            ]
          },
          "metadata": {
            "tags": []
          }
        }
      ]
    }
  ]
}